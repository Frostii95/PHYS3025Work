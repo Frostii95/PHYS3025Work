{
  "nbformat": 4,
  "nbformat_minor": 0,
  "metadata": {
    "colab": {
      "provenance": [],
      "authorship_tag": "ABX9TyP+Z1AsVpk0KcVR17bWj6F9",
      "include_colab_link": true
    },
    "kernelspec": {
      "name": "python3",
      "display_name": "Python 3"
    },
    "language_info": {
      "name": "python"
    }
  },
  "cells": [
    {
      "cell_type": "markdown",
      "metadata": {
        "id": "view-in-github",
        "colab_type": "text"
      },
      "source": [
        "<a href=\"https://colab.research.google.com/github/Frostii95/PHYS3025Work/blob/main/Activity_1.ipynb\" target=\"_parent\"><img src=\"https://colab.research.google.com/assets/colab-badge.svg\" alt=\"Open In Colab\"/></a>"
      ]
    },
    {
      "cell_type": "code",
      "execution_count": null,
      "metadata": {
        "colab": {
          "base_uri": "https://localhost:8080/"
        },
        "id": "ckSeefC58P0q",
        "outputId": "2d65657c-7bcc-4c49-d374-eee3e57d2888"
      },
      "outputs": [
        {
          "output_type": "stream",
          "name": "stdout",
          "text": [
            "Collecting astroquery\n",
            "  Downloading astroquery-0.4.6-py3-none-any.whl (4.5 MB)\n",
            "\u001b[2K     \u001b[90m━━━━━━━━━━━━━━━━━━━━━━━━━━━━━━━━━━━━━━━━\u001b[0m \u001b[32m4.5/4.5 MB\u001b[0m \u001b[31m10.9 MB/s\u001b[0m eta \u001b[36m0:00:00\u001b[0m\n",
            "\u001b[?25hRequirement already satisfied: numpy>=1.16 in /usr/local/lib/python3.10/dist-packages (from astroquery) (1.23.5)\n",
            "Requirement already satisfied: astropy>=4.0 in /usr/local/lib/python3.10/dist-packages (from astroquery) (5.3.2)\n",
            "Requirement already satisfied: requests>=2.4.3 in /usr/local/lib/python3.10/dist-packages (from astroquery) (2.31.0)\n",
            "Requirement already satisfied: beautifulsoup4>=4.3.2 in /usr/local/lib/python3.10/dist-packages (from astroquery) (4.11.2)\n",
            "Requirement already satisfied: html5lib>=0.999 in /usr/local/lib/python3.10/dist-packages (from astroquery) (1.1)\n",
            "Requirement already satisfied: keyring>=4.0 in /usr/lib/python3/dist-packages (from astroquery) (23.5.0)\n",
            "Collecting pyvo>=1.1 (from astroquery)\n",
            "  Downloading pyvo-1.4.2-py3-none-any.whl (888 kB)\n",
            "\u001b[2K     \u001b[90m━━━━━━━━━━━━━━━━━━━━━━━━━━━━━━━━━━━━━━\u001b[0m \u001b[32m888.9/888.9 kB\u001b[0m \u001b[31m18.2 MB/s\u001b[0m eta \u001b[36m0:00:00\u001b[0m\n",
            "\u001b[?25hRequirement already satisfied: pyerfa>=2.0 in /usr/local/lib/python3.10/dist-packages (from astropy>=4.0->astroquery) (2.0.0.3)\n",
            "Requirement already satisfied: PyYAML>=3.13 in /usr/local/lib/python3.10/dist-packages (from astropy>=4.0->astroquery) (6.0.1)\n",
            "Requirement already satisfied: packaging>=19.0 in /usr/local/lib/python3.10/dist-packages (from astropy>=4.0->astroquery) (23.1)\n",
            "Requirement already satisfied: soupsieve>1.2 in /usr/local/lib/python3.10/dist-packages (from beautifulsoup4>=4.3.2->astroquery) (2.4.1)\n",
            "Requirement already satisfied: six>=1.9 in /usr/local/lib/python3.10/dist-packages (from html5lib>=0.999->astroquery) (1.16.0)\n",
            "Requirement already satisfied: webencodings in /usr/local/lib/python3.10/dist-packages (from html5lib>=0.999->astroquery) (0.5.1)\n",
            "Requirement already satisfied: charset-normalizer<4,>=2 in /usr/local/lib/python3.10/dist-packages (from requests>=2.4.3->astroquery) (3.2.0)\n",
            "Requirement already satisfied: idna<4,>=2.5 in /usr/local/lib/python3.10/dist-packages (from requests>=2.4.3->astroquery) (3.4)\n",
            "Requirement already satisfied: urllib3<3,>=1.21.1 in /usr/local/lib/python3.10/dist-packages (from requests>=2.4.3->astroquery) (2.0.4)\n",
            "Requirement already satisfied: certifi>=2017.4.17 in /usr/local/lib/python3.10/dist-packages (from requests>=2.4.3->astroquery) (2023.7.22)\n",
            "Installing collected packages: pyvo, astroquery\n",
            "Successfully installed astroquery-0.4.6 pyvo-1.4.2\n"
          ]
        }
      ],
      "source": [
        "\n",
        "# Python standard library\n",
        "import time\n",
        "import warnings\n",
        "\n",
        "# Third-party software\n",
        "import numpy as np\n",
        "\n",
        "# Astropy\n",
        "from astropy import coordinates as coord\n",
        "from astropy import units as u\n",
        "from astropy.table import Table\n",
        "\n",
        "# Astroquery. This tutorial requires 0.3.5 or greater.\n",
        "!pip install astroquery #note we need to install it manually using !pip install\n",
        "import astroquery\n",
        "from astroquery.simbad import Simbad\n",
        "from astroquery.vo_conesearch import conf, conesearch, vos_catalog\n",
        "\n",
        "# Set up matplotlib\n",
        "import matplotlib.pyplot as plt\n",
        "%matplotlib inline"
      ]
    },
    {
      "cell_type": "code",
      "source": [
        "conesearch.list_catalogs()"
      ],
      "metadata": {
        "colab": {
          "base_uri": "https://localhost:8080/"
        },
        "id": "mLY3Ka9A9Gep",
        "outputId": "965a6afd-f878-4e91-b67e-a61657fb8752"
      },
      "execution_count": null,
      "outputs": [
        {
          "output_type": "execute_result",
          "data": {
            "text/plain": [
              "['2MASS All-Sky Catalog of Point Sources 1',\n",
              " 'Gaia DR2 5',\n",
              " 'Guide Star Catalog 2.3 Cone Search 1',\n",
              " 'SDSS DR7 - Sloan Digital Sky Survey Data Release 7 1',\n",
              " 'SDSS DR7 - Sloan Digital Sky Survey Data Release 7 2',\n",
              " 'SDSS DR7 - Sloan Digital Sky Survey Data Release 7 3',\n",
              " 'SDSS DR7 - Sloan Digital Sky Survey Data Release 7 4',\n",
              " 'The HST Guide Star Catalog, Version 1.1 1',\n",
              " 'The HST Guide Star Catalog, Version 1.2 1',\n",
              " 'The HST Guide Star Catalog, Version GSC-ACT 1',\n",
              " 'The PMM USNO-A1.0 Catalogue 1',\n",
              " 'The USNO-A2.0 Catalogue 1',\n",
              " 'The USNO-B1.0 Catalog 2',\n",
              " 'Two Micron All Sky Survey (2MASS) 1',\n",
              " 'Two Micron All Sky Survey (2MASS) 2']"
            ]
          },
          "metadata": {},
          "execution_count": 2
        }
      ]
    },
    {
      "cell_type": "code",
      "source": [
        "c = coord.SkyCoord.from_name('M31', frame='icrs')\n",
        "print(c)"
      ],
      "metadata": {
        "colab": {
          "base_uri": "https://localhost:8080/"
        },
        "id": "p5TCBe7u9XKL",
        "outputId": "5fac943f-3e62-4259-aa5b-09068a5fed7a"
      },
      "execution_count": null,
      "outputs": [
        {
          "output_type": "stream",
          "name": "stdout",
          "text": [
            "<SkyCoord (ICRS): (ra, dec) in deg\n",
            "    (10.6847083, 41.26875)>\n"
          ]
        }
      ]
    },
    {
      "cell_type": "code",
      "source": [
        "result = conesearch.conesearch(c, 0.1 * u.degree)"
      ],
      "metadata": {
        "colab": {
          "base_uri": "https://localhost:8080/"
        },
        "id": "yfPioVI_90YK",
        "outputId": "75af4efd-017d-4f63-d241-63ed86d17734"
      },
      "execution_count": null,
      "outputs": [
        {
          "output_type": "stream",
          "name": "stdout",
          "text": [
            "Trying http://vizier.unistra.fr/viz-bin/conesearch/II/246/out?\n"
          ]
        }
      ]
    },
    {
      "cell_type": "code",
      "source": [
        "print('First non-empty table returned by', result.url)\n",
        "print('Number of rows is', len(result))"
      ],
      "metadata": {
        "colab": {
          "base_uri": "https://localhost:8080/"
        },
        "id": "hnnFYRN59_6u",
        "outputId": "571d9296-a2c9-49f2-a052-2074f620d832"
      },
      "execution_count": null,
      "outputs": [
        {
          "output_type": "stream",
          "name": "stdout",
          "text": [
            "First non-empty table returned by http://vizier.unistra.fr/viz-bin/conesearch/II/246/out?\n",
            "Number of rows is 2008\n"
          ]
        }
      ]
    },
    {
      "cell_type": "code",
      "source": [
        "print(result)"
      ],
      "metadata": {
        "colab": {
          "base_uri": "https://localhost:8080/"
        },
        "id": "TuXRGWYG-DfU",
        "outputId": "369e8a64-57c7-4d96-bd8a-fb477a977a18"
      },
      "execution_count": null,
      "outputs": [
        {
          "output_type": "stream",
          "name": "stdout",
          "text": [
            "   _r     RAJ2000    DEJ2000   errMaj errMin ... scanKey coaddKey coadd Opt\n",
            "            deg        deg     arcsec arcsec ...                           \n",
            "-------- ---------- ---------- ------ ------ ... ------- -------- ----- ---\n",
            "0.099393  10.612369  41.185570   0.11   0.11 ...   25123   577810    44 Opt\n",
            "0.096137  10.618154  41.186672   0.32   0.29 ...   25123   577810    44 Opt\n",
            "0.097668  10.675847  41.171310   0.23   0.22 ...   69157  1590592    44 Opt\n",
            "0.093538  10.669444  41.175919   0.09   0.08 ...   69157  1590592    44 Opt\n",
            "0.094207  10.673752  41.174904   0.20   0.19 ...   69157  1590592    44 Opt\n",
            "0.099300  10.670671  41.170013   0.26   0.24 ...   69157  1590592    44 Opt\n",
            "0.084584  10.670450  41.184849   0.18   0.16 ...   69157  1590592    44 Opt\n",
            "0.098466  10.672416  41.170719   0.20   0.20 ...   69157  1590592    44 Opt\n",
            "0.082180  10.686087  41.186577   0.33   0.29 ...   69157  1590592    44 Opt\n",
            "0.085435  10.684455  41.183315   0.24   0.23 ...   69157  1590592    44 Opt\n",
            "     ...        ...        ...    ...    ... ...     ...      ...   ... ...\n",
            "0.097664  10.753706  41.351528   0.23   0.23 ...   69157  1590591    33 Opt\n",
            "0.073150  10.751946  41.321655   0.23   0.20 ...   69157  1590591    33 Opt\n",
            "0.086592  10.759137  41.334869   0.08   0.07 ...   69157  1590591    33 Opt\n",
            "0.095801  10.762873  41.344448   0.24   0.22 ...   69157  1590591    33 Opt\n",
            "0.074294  10.754734  41.321205   0.08   0.07 ...   69157  1590591    33 Opt\n",
            "0.091049  10.750001  41.345459   0.09   0.08 ...   69157  1590591    33 Opt\n",
            "0.078333  10.759188  41.323566   0.24   0.23 ...   69157  1590591    33 Opt\n",
            "0.085469  10.761429  41.331860   0.22   0.20 ...   69157  1590591    33 Opt\n",
            "0.087415  10.761952  41.334126   0.28   0.26 ...   69157  1590591    33 Opt\n",
            "0.091332  10.761388  41.339626   0.20   0.19 ...   69157  1590591    33 Opt\n",
            "Length = 2008 rows\n"
          ]
        }
      ]
    },
    {
      "cell_type": "code",
      "source": [
        "result.write('my_result.tex', format='ascii.latex', overwrite=True)"
      ],
      "metadata": {
        "id": "9o6hs7w9-JNh"
      },
      "execution_count": null,
      "outputs": []
    },
    {
      "cell_type": "code",
      "source": [
        "result_tex = Table.read('my_result.tex', format='ascii.latex', data_start=4)\n",
        "print(result_tex)"
      ],
      "metadata": {
        "colab": {
          "base_uri": "https://localhost:8080/"
        },
        "id": "2o9rX9NV-MvK",
        "outputId": "43cac79b-438a-4c8a-e986-28432597c930"
      },
      "execution_count": null,
      "outputs": [
        {
          "output_type": "stream",
          "name": "stdout",
          "text": [
            "   _r     RAJ2000   DEJ2000  errMaj errMin ... extKey scanKey coaddKey coadd Opt\n",
            "-------- --------- --------- ------ ------ ... ------ ------- -------- ----- ---\n",
            "0.099393 10.612369  41.18557   0.11   0.11 ...     --   25123   577810    44 Opt\n",
            "0.096137 10.618154 41.186672   0.32   0.29 ...     --   25123   577810    44 Opt\n",
            "0.097668 10.675847  41.17131   0.23   0.22 ...     --   69157  1590592    44 Opt\n",
            "0.093538 10.669444 41.175919   0.09   0.08 ...     --   69157  1590592    44 Opt\n",
            "0.094207 10.673752 41.174904    0.2   0.19 ...     --   69157  1590592    44 Opt\n",
            "  0.0993 10.670671 41.170013   0.26   0.24 ...     --   69157  1590592    44 Opt\n",
            "0.084584  10.67045 41.184849   0.18   0.16 ...     --   69157  1590592    44 Opt\n",
            "0.098466 10.672416 41.170719    0.2    0.2 ...     --   69157  1590592    44 Opt\n",
            " 0.08218 10.686087 41.186577   0.33   0.29 ...     --   69157  1590592    44 Opt\n",
            "0.085435 10.684455 41.183315   0.24   0.23 ...     --   69157  1590592    44 Opt\n",
            "     ...       ...       ...    ...    ... ...    ...     ...      ...   ... ...\n",
            "0.098159 10.764473   41.3465   0.24   0.21 ...     --   69157  1590591    33 Opt\n",
            "0.097664 10.753706 41.351528   0.23   0.23 ...     --   69157  1590591    33 Opt\n",
            " 0.07315 10.751946 41.321655   0.23    0.2 ...     --   69157  1590591    33 Opt\n",
            "0.086592 10.759137 41.334869   0.08   0.07 ...     --   69157  1590591    33 Opt\n",
            "0.095801 10.762873 41.344448   0.24   0.22 ...     --   69157  1590591    33 Opt\n",
            "0.074294 10.754734 41.321205   0.08   0.07 ...     --   69157  1590591    33 Opt\n",
            "0.091049 10.750001 41.345459   0.09   0.08 ...     --   69157  1590591    33 Opt\n",
            "0.078333 10.759188 41.323566   0.24   0.23 ...     --   69157  1590591    33 Opt\n",
            "0.085469 10.761429  41.33186   0.22    0.2 ...     --   69157  1590591    33 Opt\n",
            "0.087415 10.761952 41.334126   0.28   0.26 ...     --   69157  1590591    33 Opt\n",
            "0.091332 10.761388 41.339626    0.2   0.19 ...     --   69157  1590591    33 Opt\n",
            "Length = 2008 rows\n"
          ]
        }
      ]
    },
    {
      "cell_type": "code",
      "source": [
        "# Due to the unpredictability of external services,\n",
        "# The first successful query result (above) might differ\n",
        "# from run to run.\n",
        "#\n",
        "# CHANGE THESE VALUES to the appropriate RA and DEC\n",
        "# column names you see above, if necessary.\n",
        "# These are for http://gsss.stsci.edu/webservices/vo/ConeSearch.aspx?CAT=GSC23&\n",
        "ra_colname = 'RAJ2000'\n",
        "dec_colname = 'DEJ2000'\n",
        "# Don't run this cell if column names above are invalid.\n",
        "if ra_colname in result.colnames and dec_colname in result.colnames:\n",
        "    row = result[0]\n",
        "    simbad_obj = coord.SkyCoord(ra=row[ra_colname]*u.deg, dec=row[dec_colname]*u.deg)\n",
        "    print('Searching SIMBAD for\\n{}\\n'.format(simbad_obj))\n",
        "    simbad_result = Simbad.query_region(simbad_obj, radius=5*u.arcsec)\n",
        "    print(simbad_result)\n",
        "else:\n",
        "    print('{} or {} not in search results. Choose from: {}'.format(\n",
        "        ra_colname, dec_colname, ' '.join(result.colnames)))"
      ],
      "metadata": {
        "colab": {
          "base_uri": "https://localhost:8080/"
        },
        "id": "qgg-1d9L-RY2",
        "outputId": "49f48a05-1a16-4f7a-c612-5b17e57bc161"
      },
      "execution_count": null,
      "outputs": [
        {
          "output_type": "stream",
          "name": "stdout",
          "text": [
            "Searching SIMBAD for\n",
            "<SkyCoord (ICRS): (ra, dec) in deg\n",
            "    (10.612369, 41.18557)>\n",
            "\n",
            " MAIN_ID        RA         DEC     ...     COO_BIBCODE     SCRIPT_NUMBER_ID\n",
            "             \"h:m:s\"     \"d:m:s\"   ...                                     \n",
            "---------- ----------- ----------- ... ------------------- ----------------\n",
            "Rosino  77 00 42 26.79 +41 11 12.0 ... 2007A&A...465..375P                1\n"
          ]
        }
      ]
    },
    {
      "cell_type": "code",
      "source": [
        "my_db = vos_catalog.get_remote_catalog_db(conf.conesearch_dbname)\n",
        "my_cat = my_db.get_catalog_by_url(result.url)\n",
        "print(my_cat.dumps())"
      ],
      "metadata": {
        "colab": {
          "base_uri": "https://localhost:8080/"
        },
        "id": "OodpF9IM_LnX",
        "outputId": "12350110-11c0-41ef-ebd8-064ccd516ecb"
      },
      "execution_count": null,
      "outputs": [
        {
          "output_type": "stream",
          "name": "stdout",
          "text": [
            "{\n",
            "    \"authenticated_only\": 0,\n",
            "    \"cap_description\": \"Cone search capability for table II/246/out (2MASS Point Source Catalogue, output (on a total of 470,992,970 sources))\",\n",
            "    \"cap_index\": 4,\n",
            "    \"cap_type\": \"conesearch\",\n",
            "    \"content_level\": \"research\",\n",
            "    \"content_type\": \"catalog\",\n",
            "    \"created\": \"1/10/2008 11:19:42 PM\",\n",
            "    \"creator_seq\": \"\",\n",
            "    \"duplicatesIgnored\": 4,\n",
            "    \"intf_index\": 1,\n",
            "    \"intf_role\": \"std\",\n",
            "    \"intf_type\": \"vs:paramhttp\",\n",
            "    \"ivoid\": \"ivo://cds.vizier/ii/246\",\n",
            "    \"mirror_url\": \"https://vizier.iucaa.in/viz-bin/conesearch/II/246/out?#http://vizieridia.saao.ac.za/viz-bin/conesearch/II/246/out?\",\n",
            "    \"query_type\": \"\",\n",
            "    \"reference_url\": \"http://cdsarc.unistra.fr/cgi-bin/cat/II/246\",\n",
            "    \"region_of_regard\": NaN,\n",
            "    \"res_description\": \"The Two Micron All Sky Survey (2MASS) project is designed to close the gap between our current technical capability and our knowledge of the near-infrared sky. In addition to providing a context for the interpretation of results obtained at infrared and other wavelengths, 2MASS will provide direct answers to immediate questions on the large-scale structure of the Milky Way and the Local Universe. To achieve these goals, 2MASS is uniformly scanning the entire sky in three near-infrared bands to detect and characterize point sources brighter than about 1 mJy in each band, with signal-to-noise ratio (SNR) greater than 10, using a pixel size of 2.0\\\". This will achieve an 80,000-fold improvement in sensitivity relative to earlier surveys. 2MASS uses two new, highly-automated 1.3-m telescopes, one at Mt. Hopkins, AZ, and one at CTIO, Chile. Each telescope is equipped with a three-channel camera, each channel consisting of a 256x256 array of HgCdTe detectors, capable of observing the sky simultaneously at J (1.25 {mu}m), H (1.65 {mu}m), and Ks (2.17 {mu}m), to a 3{sigma} limiting sensitivity of 17.1, 16.4 and 15.3mag in the three bands. The 2MASS arrays image the sky while the telescopes scan smoothly in declination at a rate of ~1' per second. The 2MASS data \\\"tiles\\\" are 6 deg. long in the declination direction and one camera frame (8.5') wide. The camera field-of-view shifts by ~1/6 of a frame in declination from frame-to-frame. The camera images each point on the sky six times for a total integration time of 7.8 s, with sub-pixel \\\"dithering\\\", which improves the ultimate spatial resolution of the final Atlas Images. The University of Massachusetts (UMass) is responsible for the overall management of the project, and for developing the infrared cameras and on-site computing systems at both facilities. The Infrared Processing and Analysis Center (IPAC) is responsible for all data processing through the Production Pipeline, and construction and distribution of the data products. The 2MASS project involves the participation of members of the Science Team from several different institutions. The 2MASS project is funding by the National Aeronautics and Space Administration (NASA) and the National Science Foundation (NSF).\",\n",
            "    \"res_subject\": \"Infrared astronomy\",\n",
            "    \"res_type\": \"vs:catalogservice\",\n",
            "    \"res_version\": \"\",\n",
            "    \"result_type\": \"\",\n",
            "    \"rights\": \"public\",\n",
            "    \"rights_uri\": \"\",\n",
            "    \"short_name\": \"II/246\",\n",
            "    \"source_format\": \"bibcode\",\n",
            "    \"source_value\": \"2003yCat.2246....0C\",\n",
            "    \"standard_id\": \"ivo://ivoa.net/std/conesearch\",\n",
            "    \"std_version\": \"\",\n",
            "    \"title\": \"2MASS All-Sky Catalog of Point Sources\",\n",
            "    \"updated\": \"10/21/2021 12:00:00 AM\",\n",
            "    \"url\": \"http://vizier.unistra.fr/viz-bin/conesearch/II/246/out?\",\n",
            "    \"url_use\": \"base\",\n",
            "    \"validate_expected\": \"good\",\n",
            "    \"validate_network_error\": null,\n",
            "    \"validate_nexceptions\": 0,\n",
            "    \"validate_nwarnings\": 14,\n",
            "    \"validate_out_db_name\": \"good\",\n",
            "    \"validate_version\": \"1.4\",\n",
            "    \"validate_warning_types\": [\n",
            "        \"W06\",\n",
            "        \"W03\"\n",
            "    ],\n",
            "    \"validate_warnings\": [\n",
            "        \"/var/www/astroconda.org/html/aux/vo_databases/daily_20230817/results/78/a8/966dc94b2099b663d5f839c4d89c/vo.xml:46:4: W06: Invalid UCD 'POS_EQ_RA_MAIN': Unknown word 'POS_EQ_RA_MAIN'\",\n",
            "        \"/var/www/astroconda.org/html/aux/vo_databases/daily_20230817/results/78/a8/966dc94b2099b663d5f839c4d89c/vo.xml:49:4: W06: Invalid UCD 'POS_EQ_DEC_MAIN': Unknown word 'POS_EQ_DEC_MAIN'\",\n",
            "        \"/var/www/astroconda.org/html/aux/vo_databases/daily_20230817/results/78/a8/966dc94b2099b663d5f839c4d89c/vo.xml:61:4: W03: Implicitly generating an ID from a name '2MASS' -> '_2MASS'\",\n",
            "        \"/var/www/astroconda.org/html/aux/vo_databases/daily_20230817/results/78/a8/966dc94b2099b663d5f839c4d89c/vo.xml:61:4: W06: Invalid UCD 'ID_MAIN': Unknown word 'ID_MAIN'\",\n",
            "        \"/var/www/astroconda.org/html/aux/vo_databases/daily_20230817/results/78/a8/966dc94b2099b663d5f839c4d89c/vo.xml:152:4: W06: Invalid UCD 'obs.field': Secondary word 'obs.field' is not valid as a primary word\",\n",
            "        \"/var/www/astroconda.org/html/aux/vo_databases/daily_20230817/results/78/a8/966dc94b2099b663d5f839c4d89c/vo.xml:161:4: W06: Invalid UCD 'pos.cartesian;instr.det': Secondary word 'pos.cartesian' is not valid as a primary word\",\n",
            "        \"/var/www/astroconda.org/html/aux/vo_databases/daily_20230817/results/78/a8/966dc94b2099b663d5f839c4d89c/vo.xml:209:4: W06: Invalid UCD 'pos.cartesian;instr.det': Secondary word 'pos.cartesian' is not valid as a primary word\",\n",
            "        \"/var/www/astroconda.org/html/aux/vo_databases/daily_20230817/results/78/a8/966dc94b2099b663d5f839c4d89c/vo.xml:46:4: W06: Invalid UCD 'POS_EQ_RA_MAIN': Unknown word 'POS_EQ_RA_MAIN'\",\n",
            "        \"/var/www/astroconda.org/html/aux/vo_databases/daily_20230817/results/78/a8/966dc94b2099b663d5f839c4d89c/vo.xml:49:4: W06: Invalid UCD 'POS_EQ_DEC_MAIN': Unknown word 'POS_EQ_DEC_MAIN'\",\n",
            "        \"/var/www/astroconda.org/html/aux/vo_databases/daily_20230817/results/78/a8/966dc94b2099b663d5f839c4d89c/vo.xml:61:4: W03: Implicitly generating an ID from a name '2MASS' -> '_2MASS'\",\n",
            "        \"/var/www/astroconda.org/html/aux/vo_databases/daily_20230817/results/78/a8/966dc94b2099b663d5f839c4d89c/vo.xml:61:4: W06: Invalid UCD 'ID_MAIN': Unknown word 'ID_MAIN'\",\n",
            "        \"/var/www/astroconda.org/html/aux/vo_databases/daily_20230817/results/78/a8/966dc94b2099b663d5f839c4d89c/vo.xml:152:4: W06: Invalid UCD 'obs.field': Secondary word 'obs.field' is not valid as a primary word\",\n",
            "        \"/var/www/astroconda.org/html/aux/vo_databases/daily_20230817/results/78/a8/966dc94b2099b663d5f839c4d89c/vo.xml:161:4: W06: Invalid UCD 'pos.cartesian;instr.det': Secondary word 'pos.cartesian' is not valid as a primary word\",\n",
            "        \"/var/www/astroconda.org/html/aux/vo_databases/daily_20230817/results/78/a8/966dc94b2099b663d5f839c4d89c/vo.xml:209:4: W06: Invalid UCD 'pos.cartesian;instr.det': Secondary word 'pos.cartesian' is not valid as a primary word\"\n",
            "    ],\n",
            "    \"validate_xmllint\": false,\n",
            "    \"validate_xmllint_content\": \"/var/www/astroconda.org/html/aux/vo_databases/daily_20230817/results/78/a8/966dc94b2099b663d5f839c4d89c/vo.xml:4: element VOTABLE: Schemas validity error : Element '{http://www.ivoa.net/xml/VOTable/v1.3}VOTABLE': No matching global declaration available for the validation root.\\n/var/www/astroconda.org/html/aux/vo_databases/daily_20230817/results/78/a8/966dc94b2099b663d5f839c4d89c/vo.xml fails to validate\\n\",\n",
            "    \"waveband\": \"infrared\",\n",
            "    \"wsdl_url\": \"\"\n",
            "}\n"
          ]
        }
      ]
    },
    {
      "cell_type": "code",
      "source": [
        "try:\n",
        "    result = conesearch.conesearch(\n",
        "        c, 0.1 * u.degree, catalog_db='The USNO-A2.0 Catalogue 1')\n",
        "except Exception as e:\n",
        "    # We provide a cached version of the result table in case the query fails\n",
        "    # due to an intermittent server-side issue, or if you do not have an\n",
        "    # internet connection\n",
        "    result = Table.read('usno-A2-result.fits')\n",
        "\n",
        "print('Number of rows is', len(result))"
      ],
      "metadata": {
        "colab": {
          "base_uri": "https://localhost:8080/"
        },
        "id": "0jBPwmdx_gOy",
        "outputId": "44e45e44-1be8-491f-e5e9-9041e150941b"
      },
      "execution_count": null,
      "outputs": [
        {
          "output_type": "stream",
          "name": "stdout",
          "text": [
            "Trying http://vizier.unistra.fr/viz-bin/conesearch/I/252/out?\n",
            "Number of rows is 3\n"
          ]
        }
      ]
    },
    {
      "cell_type": "code",
      "source": [
        "col_names = result.colnames\n",
        "print(col_names)"
      ],
      "metadata": {
        "colab": {
          "base_uri": "https://localhost:8080/"
        },
        "id": "qG_VNb9r_pCb",
        "outputId": "78f77fc4-b59c-4d5f-9707-11f2aea083bd"
      },
      "execution_count": null,
      "outputs": [
        {
          "output_type": "stream",
          "name": "stdout",
          "text": [
            "['_r', 'USNO-A2.0', 'RAJ2000', 'DEJ2000', 'ACTflag', 'Mflag', 'Bmag', 'Rmag', 'Epoch']\n"
          ]
        }
      ]
    },
    {
      "cell_type": "code",
      "source": [
        "# Before sort\n",
        "print(result)"
      ],
      "metadata": {
        "colab": {
          "base_uri": "https://localhost:8080/"
        },
        "id": "-xS9Ui7u_s6j",
        "outputId": "31e9f59d-e8bc-43d1-9d87-d32c447f82d4"
      },
      "execution_count": null,
      "outputs": [
        {
          "output_type": "stream",
          "name": "stdout",
          "text": [
            "   _r      USNO-A2.0    RAJ2000    DEJ2000   ACTflag Mflag Bmag Rmag  Epoch  \n",
            "                          deg        deg                   mag  mag     yr   \n",
            "-------- ------------- ---------- ---------- ------- ----- ---- ---- --------\n",
            "0.094265 1275-00425574  10.595878  41.335328               19.8 17.4 1953.773\n",
            "0.098040 1275-00427192  10.639945  41.360845               19.4 18.4 1953.773\n",
            "0.063280 1275-00429939  10.712834  41.209109       A       99.9 11.2       --\n"
          ]
        }
      ]
    },
    {
      "cell_type": "code",
      "source": [
        "# After sort\n",
        "result.sort('_r')\n",
        "print(result)"
      ],
      "metadata": {
        "colab": {
          "base_uri": "https://localhost:8080/"
        },
        "id": "me4ybjr5_vD8",
        "outputId": "df503589-1e50-4ff7-ac50-8460202c528b"
      },
      "execution_count": null,
      "outputs": [
        {
          "output_type": "stream",
          "name": "stdout",
          "text": [
            "   _r      USNO-A2.0    RAJ2000    DEJ2000   ACTflag Mflag Bmag Rmag  Epoch  \n",
            "                          deg        deg                   mag  mag     yr   \n",
            "-------- ------------- ---------- ---------- ------- ----- ---- ---- --------\n",
            "0.063280 1275-00429939  10.712834  41.209109       A       99.9 11.2       --\n",
            "0.094265 1275-00425574  10.595878  41.335328               19.8 17.4 1953.773\n",
            "0.098040 1275-00427192  10.639945  41.360845               19.4 18.4 1953.773\n"
          ]
        }
      ]
    },
    {
      "cell_type": "code",
      "source": [
        "result.write('my_result.csv', format='ascii.csv', overwrite=True)"
      ],
      "metadata": {
        "id": "HV-fBls9_6a4"
      },
      "execution_count": null,
      "outputs": []
    },
    {
      "cell_type": "code",
      "source": [
        "data = Table.read(\"my_result.csv\")"
      ],
      "metadata": {
        "id": "JnZmFO5R_9zq"
      },
      "execution_count": null,
      "outputs": []
    },
    {
      "cell_type": "code",
      "source": [
        "print(data)"
      ],
      "metadata": {
        "colab": {
          "base_uri": "https://localhost:8080/"
        },
        "id": "sCUhD8a5BGwE",
        "outputId": "e79ef221-e389-4b62-b97e-8a3af4c50e30"
      },
      "execution_count": null,
      "outputs": [
        {
          "output_type": "stream",
          "name": "stdout",
          "text": [
            "   _r      USNO-A2.0    RAJ2000   DEJ2000  ACTflag Mflag Bmag Rmag  Epoch  \n",
            "-------- ------------- --------- --------- ------- ----- ---- ---- --------\n",
            " 0.06328 1275-00429939 10.712834 41.209109       A    -- 99.9 11.2       --\n",
            "0.094265 1275-00425574 10.595878 41.335328      --    -- 19.8 17.4 1953.773\n",
            " 0.09804 1275-00427192 10.639945 41.360845      --    -- 19.4 18.4 1953.773\n"
          ]
        }
      ]
    },
    {
      "cell_type": "code",
      "source": [
        "data['RPlx']"
      ],
      "metadata": {
        "colab": {
          "base_uri": "https://localhost:8080/",
          "height": 317
        },
        "id": "0acaf6UFAANX",
        "outputId": "85db9d7b-578c-4594-9f4c-443cbee0c39f"
      },
      "execution_count": null,
      "outputs": [
        {
          "output_type": "error",
          "ename": "KeyError",
          "evalue": "ignored",
          "traceback": [
            "\u001b[0;31m---------------------------------------------------------------------------\u001b[0m",
            "\u001b[0;31mKeyError\u001b[0m                                  Traceback (most recent call last)",
            "\u001b[0;32m<ipython-input-37-e2c8ddc85315>\u001b[0m in \u001b[0;36m<cell line: 1>\u001b[0;34m()\u001b[0m\n\u001b[0;32m----> 1\u001b[0;31m \u001b[0mdata\u001b[0m\u001b[0;34m[\u001b[0m\u001b[0;34m'RPlx'\u001b[0m\u001b[0;34m]\u001b[0m\u001b[0;34m\u001b[0m\u001b[0;34m\u001b[0m\u001b[0m\n\u001b[0m",
            "\u001b[0;32m/usr/local/lib/python3.10/dist-packages/astropy/table/table.py\u001b[0m in \u001b[0;36m__getitem__\u001b[0;34m(self, item)\u001b[0m\n\u001b[1;32m   2053\u001b[0m     \u001b[0;32mdef\u001b[0m \u001b[0m__getitem__\u001b[0m\u001b[0;34m(\u001b[0m\u001b[0mself\u001b[0m\u001b[0;34m,\u001b[0m \u001b[0mitem\u001b[0m\u001b[0;34m)\u001b[0m\u001b[0;34m:\u001b[0m\u001b[0;34m\u001b[0m\u001b[0;34m\u001b[0m\u001b[0m\n\u001b[1;32m   2054\u001b[0m         \u001b[0;32mif\u001b[0m \u001b[0misinstance\u001b[0m\u001b[0;34m(\u001b[0m\u001b[0mitem\u001b[0m\u001b[0;34m,\u001b[0m \u001b[0mstr\u001b[0m\u001b[0;34m)\u001b[0m\u001b[0;34m:\u001b[0m\u001b[0;34m\u001b[0m\u001b[0;34m\u001b[0m\u001b[0m\n\u001b[0;32m-> 2055\u001b[0;31m             \u001b[0;32mreturn\u001b[0m \u001b[0mself\u001b[0m\u001b[0;34m.\u001b[0m\u001b[0mcolumns\u001b[0m\u001b[0;34m[\u001b[0m\u001b[0mitem\u001b[0m\u001b[0;34m]\u001b[0m\u001b[0;34m\u001b[0m\u001b[0;34m\u001b[0m\u001b[0m\n\u001b[0m\u001b[1;32m   2056\u001b[0m         \u001b[0;32melif\u001b[0m \u001b[0misinstance\u001b[0m\u001b[0;34m(\u001b[0m\u001b[0mitem\u001b[0m\u001b[0;34m,\u001b[0m \u001b[0;34m(\u001b[0m\u001b[0mint\u001b[0m\u001b[0;34m,\u001b[0m \u001b[0mnp\u001b[0m\u001b[0;34m.\u001b[0m\u001b[0minteger\u001b[0m\u001b[0;34m)\u001b[0m\u001b[0;34m)\u001b[0m\u001b[0;34m:\u001b[0m\u001b[0;34m\u001b[0m\u001b[0;34m\u001b[0m\u001b[0m\n\u001b[1;32m   2057\u001b[0m             \u001b[0;32mreturn\u001b[0m \u001b[0mself\u001b[0m\u001b[0;34m.\u001b[0m\u001b[0mRow\u001b[0m\u001b[0;34m(\u001b[0m\u001b[0mself\u001b[0m\u001b[0;34m,\u001b[0m \u001b[0mitem\u001b[0m\u001b[0;34m)\u001b[0m\u001b[0;34m\u001b[0m\u001b[0;34m\u001b[0m\u001b[0m\n",
            "\u001b[0;32m/usr/local/lib/python3.10/dist-packages/astropy/table/table.py\u001b[0m in \u001b[0;36m__getitem__\u001b[0;34m(self, item)\u001b[0m\n\u001b[1;32m    262\u001b[0m         \"\"\"\n\u001b[1;32m    263\u001b[0m         \u001b[0;32mif\u001b[0m \u001b[0misinstance\u001b[0m\u001b[0;34m(\u001b[0m\u001b[0mitem\u001b[0m\u001b[0;34m,\u001b[0m \u001b[0mstr\u001b[0m\u001b[0;34m)\u001b[0m\u001b[0;34m:\u001b[0m\u001b[0;34m\u001b[0m\u001b[0;34m\u001b[0m\u001b[0m\n\u001b[0;32m--> 264\u001b[0;31m             \u001b[0;32mreturn\u001b[0m \u001b[0mOrderedDict\u001b[0m\u001b[0;34m.\u001b[0m\u001b[0m__getitem__\u001b[0m\u001b[0;34m(\u001b[0m\u001b[0mself\u001b[0m\u001b[0;34m,\u001b[0m \u001b[0mitem\u001b[0m\u001b[0;34m)\u001b[0m\u001b[0;34m\u001b[0m\u001b[0;34m\u001b[0m\u001b[0m\n\u001b[0m\u001b[1;32m    265\u001b[0m         \u001b[0;32melif\u001b[0m \u001b[0misinstance\u001b[0m\u001b[0;34m(\u001b[0m\u001b[0mitem\u001b[0m\u001b[0;34m,\u001b[0m \u001b[0;34m(\u001b[0m\u001b[0mint\u001b[0m\u001b[0;34m,\u001b[0m \u001b[0mnp\u001b[0m\u001b[0;34m.\u001b[0m\u001b[0minteger\u001b[0m\u001b[0;34m)\u001b[0m\u001b[0;34m)\u001b[0m\u001b[0;34m:\u001b[0m\u001b[0;34m\u001b[0m\u001b[0;34m\u001b[0m\u001b[0m\n\u001b[1;32m    266\u001b[0m             \u001b[0;32mreturn\u001b[0m \u001b[0mlist\u001b[0m\u001b[0;34m(\u001b[0m\u001b[0mself\u001b[0m\u001b[0;34m.\u001b[0m\u001b[0mvalues\u001b[0m\u001b[0;34m(\u001b[0m\u001b[0;34m)\u001b[0m\u001b[0;34m)\u001b[0m\u001b[0;34m[\u001b[0m\u001b[0mitem\u001b[0m\u001b[0;34m]\u001b[0m\u001b[0;34m\u001b[0m\u001b[0;34m\u001b[0m\u001b[0m\n",
            "\u001b[0;31mKeyError\u001b[0m: 'RPlx'"
          ]
        }
      ]
    },
    {
      "cell_type": "code",
      "source": [
        "data_clean=data[data[\"RPlx\"]>=0]"
      ],
      "metadata": {
        "id": "COkztz9hAFat"
      },
      "execution_count": null,
      "outputs": []
    }
  ]
}